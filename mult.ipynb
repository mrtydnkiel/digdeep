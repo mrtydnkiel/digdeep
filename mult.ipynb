{
 "cells": [
  {
   "cell_type": "code",
   "execution_count": 2,
   "metadata": {},
   "outputs": [],
   "source": [
    "rhof = 988.04 # kg/m³ - fluid density\n",
    "Qi = 0.000266 # m³/s - flow-rate\n",
    "rpi = 0.0131 # m - pipe inner radius\n",
    "mu = 0.0005465 # Pa.s - dynamic viscosity\n",
    "cpf = 4182 # J/(kg.K) - fluid specific heat capacity\n",
    "kfluid = 0.64 # W/(m.K) - fluid thermal conductivity\n",
    "kpipe = 0.38 # W/(m.K) - pipe thermal conductivity\n",
    "rpo = 0.016 # W/(m.K) - pipe outer radius\n",
    "kgrout = 1.2 # W/(m.K) - grout thermal conductivity\n",
    "ss = 0.073 # m - shank space\n",
    "rb = 0.108 # m - borehole radius\n",
    "ks = 1.73 # W/(m.K) - ground thermal conductivity\n",
    "H = 56 # m - depth"
   ]
  },
  {
   "cell_type": "code",
   "execution_count": 6,
   "metadata": {},
   "outputs": [
    {
     "name": "stdout",
     "output_type": "stream",
     "text": [
      "Effective borehole thermal resistance : 0.197 m.K/W\n"
     ]
    }
   ],
   "source": [
    "import math\n",
    "Vfluid = Qi / (math.pi*rpi**2)\n",
    "teta1 = ss / (2*rb)\n",
    "teta2 = rb / rpo\n",
    "teta3 = rpo / ss\n",
    "sig1 = (kgrout - ks)/(kgrout + ks)\n",
    "Rpc = (1 / (2*math.pi*kpipe))*math.log(rpo/rpi) # pipe conductive resistance\n",
    "Re1 = rhof * Vfluid*2*rpi / mu # Reynolds number\n",
    "Pr = cpf*mu / kfluid # Prandtl Number\n",
    "ff = (0.79*math.log(Re1)-1.64)**(-2) \n",
    "NUpi = ((ff/8)*(Re1-1000)*Pr)/(1+12.7*((ff/8)**(0.5))*(Pr**(2/3)-1)) # Nusselt Number\n",
    "hpi = NUpi*kfluid/(2*rpi) # convective heat transfer coefficient\n",
    "Rpic = 1/(2*math.pi*rpi*hpi) # pipe convective resistance\n",
    "Rp = Rpc + Rpic # pipe thermal resistance\n",
    "Beta1 = 2*math.pi*kgrout*Rp\n",
    "Rb1U = (1/(4*math.pi*kgrout))*(Beta1 + math.log(teta2/(2*teta1*(1-teta1**4)**sig1)) + ((teta3**2)*(1-(4*sig1*teta1**4)/(1-teta1**4))**2)/((1 + Beta1)/(1 - Beta1) + (teta3**2)*(1 + (16*sig1*teta1**4)/(1 - teta1**4)**2)))\n",
    "Ra1U = (1/(math.pi*kgrout))*(Beta1 + math.log(((1 + teta1**2)**sig1)/(teta3*(1 - teta1**2)**sig1))\\\n",
    "    -((teta3**2)*(1 - teta1**4 + 4*sig1*teta1**2)**2)/(((1+Beta1)/(1-Beta1))*(1-teta1**4)**2 \\\n",
    "        - (teta3**2)*(1 - teta1**4)**2 + (8*sig1*teta1**2)*(teta3**2)*(1 + teta1**4)))\n",
    "Rbs = Rb1U + (1/(3*Ra1U))*(H/(rhof*cpf*Vfluid))**2 # Effective borehole thermal resistance\n",
    "print(\"Effective borehole thermal resistance :\", \"%.3f\" % Rbs, \"m.K/W\")"
   ]
  },
  {
   "cell_type": "code",
   "execution_count": null,
   "metadata": {},
   "outputs": [],
   "source": []
  }
 ],
 "metadata": {
  "interpreter": {
   "hash": "ad2bdc8ecc057115af97d19610ffacc2b4e99fae6737bb82f5d7fb13d2f2c186"
  },
  "kernelspec": {
   "display_name": "Python 3.9.7 ('base')",
   "language": "python",
   "name": "python3"
  },
  "language_info": {
   "codemirror_mode": {
    "name": "ipython",
    "version": 3
   },
   "file_extension": ".py",
   "mimetype": "text/x-python",
   "name": "python",
   "nbconvert_exporter": "python",
   "pygments_lexer": "ipython3",
   "version": "3.9.7"
  },
  "orig_nbformat": 4
 },
 "nbformat": 4,
 "nbformat_minor": 2
}
